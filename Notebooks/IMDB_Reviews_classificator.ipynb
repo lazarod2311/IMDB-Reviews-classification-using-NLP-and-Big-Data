{
  "cells": [
    {
      "cell_type": "markdown",
      "metadata": {
        "id": "view-in-github",
        "colab_type": "text"
      },
      "source": [
        "<a href=\"https://colab.research.google.com/github/lazarod2311/IMDB-Reviews-classification-using-NLP-and-Big-Data/blob/main/Notebooks/IMDB_Reviews_classificator.ipynb\" target=\"_parent\"><img src=\"https://colab.research.google.com/assets/colab-badge.svg\" alt=\"Open In Colab\"/></a>"
      ]
    },
    {
      "cell_type": "code",
      "execution_count": null,
      "metadata": {
        "colab": {
          "base_uri": "https://localhost:8080/"
        },
        "id": "-cZhvR_zFoAv",
        "outputId": "69fda9db-92c4-4bc7-883a-e91e3de56217"
      },
      "outputs": [
        {
          "name": "stdout",
          "output_type": "stream",
          "text": [
            "Mounted at /content/drive\n"
          ]
        }
      ],
      "source": [
        "from google.colab import drive\n",
        "drive.mount('/content/drive')"
      ]
    },
    {
      "cell_type": "markdown",
      "metadata": {
        "id": "IM1y5bCwGAya"
      },
      "source": [
        "Copia os dados para a pasta do Colab"
      ]
    },
    {
      "cell_type": "code",
      "execution_count": null,
      "metadata": {
        "id": "VguESdbSGEJK"
      },
      "outputs": [],
      "source": [
        "!cp /content/drive/MyDrive/imdb-reviews/imdb-reviews-pt-br.csv /content"
      ]
    },
    {
      "cell_type": "markdown",
      "metadata": {
        "id": "p87BS_8iGJKY"
      },
      "source": [
        "Importar o PySpark e todos os componentes necessários\n"
      ]
    },
    {
      "cell_type": "code",
      "execution_count": null,
      "metadata": {
        "colab": {
          "base_uri": "https://localhost:8080/"
        },
        "id": "YQwQXDc5GSqF",
        "outputId": "dbf8b577-1b22-4768-f1bd-1048830bfebb"
      },
      "outputs": [
        {
          "name": "stdout",
          "output_type": "stream",
          "text": [
            "Looking in indexes: https://pypi.org/simple, https://us-python.pkg.dev/colab-wheels/public/simple/\n",
            "Collecting pyspark\n",
            "  Downloading pyspark-3.3.1.tar.gz (281.4 MB)\n",
            "\u001b[K     |████████████████████████████████| 281.4 MB 48 kB/s \n",
            "\u001b[?25hCollecting py4j==0.10.9.5\n",
            "  Downloading py4j-0.10.9.5-py2.py3-none-any.whl (199 kB)\n",
            "\u001b[K     |████████████████████████████████| 199 kB 60.3 MB/s \n",
            "\u001b[?25hBuilding wheels for collected packages: pyspark\n",
            "  Building wheel for pyspark (setup.py) ... \u001b[?25l\u001b[?25hdone\n",
            "  Created wheel for pyspark: filename=pyspark-3.3.1-py2.py3-none-any.whl size=281845513 sha256=d778bd25d04d66e034b23790988f926b3de2103516bdfa84961a63ddfd999585\n",
            "  Stored in directory: /root/.cache/pip/wheels/42/59/f5/79a5bf931714dcd201b26025347785f087370a10a3329a899c\n",
            "Successfully built pyspark\n",
            "Installing collected packages: py4j, pyspark\n",
            "Successfully installed py4j-0.10.9.5 pyspark-3.3.1\n"
          ]
        }
      ],
      "source": [
        "!pip install pyspark"
      ]
    },
    {
      "cell_type": "code",
      "execution_count": null,
      "metadata": {
        "id": "QhYMrRoOGNjV"
      },
      "outputs": [],
      "source": [
        "from pyspark.sql import SparkSession\n",
        "from pyspark.sql.functions import *\n",
        "from pyspark.sql.types import *\n",
        "spark = SparkSession.builder.getOrCreate()"
      ]
    },
    {
      "cell_type": "markdown",
      "metadata": {
        "id": "cW0eS-7KGtHY"
      },
      "source": [
        "Lendo e exibindo os dados"
      ]
    },
    {
      "cell_type": "code",
      "execution_count": null,
      "metadata": {
        "colab": {
          "base_uri": "https://localhost:8080/"
        },
        "id": "BcISU6lpGvX3",
        "outputId": "68c442d1-89e5-4595-e51d-7b5eef057d89"
      },
      "outputs": [
        {
          "name": "stdout",
          "output_type": "stream",
          "text": [
            "+---+--------------------+--------------------+-----------+\n",
            "|\"id|             text_en|             text_pt|sentiment\"\"|\n",
            "+---+--------------------+--------------------+-----------+\n",
            "| \"1|Once again Mr. Co...|Mais uma vez, o S...|      neg\"\"|\n",
            "| \"2|This is an exampl...|Este é um exemplo...|      neg\"\"|\n",
            "| \"3|First of all I ha...|Primeiro de tudo ...|      neg\"\"|\n",
            "| \"4|Not even the Beat...|Nem mesmo os Beat...|      neg\"\"|\n",
            "| \"5|Brass pictures mo...|Filmes de fotos d...|      neg\"\"|\n",
            "| \"6|A funny thing hap...|Uma coisa engraça...|      neg\"\"|\n",
            "| \"7|This German horro...|Este filme de ter...|      neg\"\"|\n",
            "| \"8|Being a long-time...|Sendo um fã de lo...|      neg\"\"|\n",
            "| \"9|\"\"Tokyo Eyes\"\" te...|\"\"Tokyo Eyes\"\" fa...|      neg\"\"|\n",
            "|\"10|Wealthy horse ran...|Fazendeiros ricos...|      neg\"\"|\n",
            "|\"11|Cage plays a drun...|Cage interpreta u...|      neg\"\"|\n",
            "|\"12|First of all, I w...|Primeiro de tudo,...|      neg\"\"|\n",
            "|\"13|So tell me - what...|Então me diga - q...|      neg\"\"|\n",
            "|\"14|A big disappointm...|Uma grande decepç...|      neg\"\"|\n",
            "|\"15|This film is abso...|Este filme é abso...|      neg\"\"|\n",
            "|\"16|Heres a decidedly...|Heres um decidida...|      neg\"\"|\n",
            "|\"17|At the bottom end...|Na parte inferior...|      neg\"\"|\n",
            "|\"18|Earth has been de...|A terra foi destr...|      neg\"\"|\n",
            "|\"19|Many people are s...|Muitas pessoas es...|      neg\"\"|\n",
            "|\"20|New York family i...|A família de Nova...|      neg\"\"|\n",
            "+---+--------------------+--------------------+-----------+\n",
            "only showing top 20 rows\n",
            "\n"
          ]
        }
      ],
      "source": [
        "imdbDf = spark.read.option(\"delimiter\", '\",\"').csv(\"/content/imdb-reviews-pt-br.csv\", header = True)\n",
        "imdbDf.show()"
      ]
    },
    {
      "cell_type": "markdown",
      "metadata": {
        "id": "C-vD8HZZG3mB"
      },
      "source": [
        "Tratamento dos dados utilizando expressões regulares"
      ]
    },
    {
      "cell_type": "code",
      "execution_count": null,
      "metadata": {
        "colab": {
          "base_uri": "https://localhost:8080/"
        },
        "id": "dm5fsFiLG7Qr",
        "outputId": "877b4e63-1ed3-4146-8ff1-a5726bef6ce2"
      },
      "outputs": [
        {
          "name": "stdout",
          "output_type": "stream",
          "text": [
            "+---+--------------------+--------------------+---------+\n",
            "| id|             text_en|             text_pt|sentiment|\n",
            "+---+--------------------+--------------------+---------+\n",
            "|  1|Once again Mr. Co...|Mais uma vez, o S...|      neg|\n",
            "|  2|This is an exampl...|Este é um exemplo...|      neg|\n",
            "|  3|First of all I ha...|Primeiro de tudo ...|      neg|\n",
            "|  4|Not even the Beat...|Nem mesmo os Beat...|      neg|\n",
            "|  5|Brass pictures mo...|Filmes de fotos d...|      neg|\n",
            "|  6|A funny thing hap...|Uma coisa engraça...|      neg|\n",
            "|  7|This German horro...|Este filme de ter...|      neg|\n",
            "|  8|Being a long-time...|Sendo um fã de lo...|      neg|\n",
            "|  9|\"\"Tokyo Eyes\"\" te...|\"\"Tokyo Eyes\"\" fa...|      neg|\n",
            "| 10|Wealthy horse ran...|Fazendeiros ricos...|      neg|\n",
            "| 11|Cage plays a drun...|Cage interpreta u...|      neg|\n",
            "| 12|First of all, I w...|Primeiro de tudo,...|      neg|\n",
            "| 13|So tell me - what...|Então me diga - q...|      neg|\n",
            "| 14|A big disappointm...|Uma grande decepç...|      neg|\n",
            "| 15|This film is abso...|Este filme é abso...|      neg|\n",
            "| 16|Heres a decidedly...|Heres um decidida...|      neg|\n",
            "| 17|At the bottom end...|Na parte inferior...|      neg|\n",
            "| 18|Earth has been de...|A terra foi destr...|      neg|\n",
            "| 19|Many people are s...|Muitas pessoas es...|      neg|\n",
            "| 20|New York family i...|A família de Nova...|      neg|\n",
            "+---+--------------------+--------------------+---------+\n",
            "only showing top 20 rows\n",
            "\n"
          ]
        }
      ],
      "source": [
        "imdbDf = imdbDf.select(col('\"id').alias('id'), col('text_en').alias(\"text_en\"), col('text_pt').alias(\"text_pt\"), col('sentiment\"\"').alias('sentiment'))\n",
        "imdbDf = imdbDf.withColumn('id', when(imdbDf.id.startswith('\"'),regexp_replace(imdbDf.id,'\"','')))\n",
        "imdbDf = imdbDf.withColumn('id', imdbDf.id.cast(IntegerType()))\n",
        "imdbDf = imdbDf.withColumn('sentiment', when(imdbDf.sentiment.endswith('\"\"'),regexp_replace(imdbDf.sentiment,'\"\"','')))\n",
        "imdbDf.show()"
      ]
    },
    {
      "cell_type": "code",
      "execution_count": null,
      "metadata": {
        "colab": {
          "base_uri": "https://localhost:8080/"
        },
        "id": "jHdAZOg0HeEO",
        "outputId": "cd3de4e4-8b50-4685-acbd-eeeb33a9461a"
      },
      "outputs": [
        {
          "name": "stdout",
          "output_type": "stream",
          "text": [
            "+---+--------------------+--------------------+---------+\n",
            "| id|             text_en|             text_pt|sentiment|\n",
            "+---+--------------------+--------------------+---------+\n",
            "|  1|once again mr. co...|mais uma vez o sr...|      neg|\n",
            "|  2|this is an exampl...|este é um exemplo...|      neg|\n",
            "|  3|first of all i ha...|primeiro de tudo ...|      neg|\n",
            "|  4|not even the beat...|nem mesmo os beat...|      neg|\n",
            "|  5|brass pictures mo...|filmes de fotos d...|      neg|\n",
            "|  6|a funny thing hap...|uma coisa engraça...|      neg|\n",
            "|  7|this german horro...|este filme de ter...|      neg|\n",
            "|  8|being a long-time...|sendo um fã de lo...|      neg|\n",
            "|  9|tokyo eyes tells ...|tokyo eyes fala d...|      neg|\n",
            "| 10|wealthy horse ran...|fazendeiros ricos...|      neg|\n",
            "| 11|cage plays a drun...|cage interpreta u...|      neg|\n",
            "| 12|first of all i wo...|primeiro de tudo ...|      neg|\n",
            "| 13|so tell me - what...|então me diga - q...|      neg|\n",
            "| 14|a big disappointm...|uma grande decepç...|      neg|\n",
            "| 15|this film is abso...|este filme é abso...|      neg|\n",
            "| 16|heres a decidedly...|heres um decidida...|      neg|\n",
            "| 17|at the bottom end...|na parte inferior...|      neg|\n",
            "| 18|earth has been de...|a terra foi destr...|      neg|\n",
            "| 19|many people are s...|muitas pessoas es...|      neg|\n",
            "| 20|new york family i...|a família de nova...|      neg|\n",
            "+---+--------------------+--------------------+---------+\n",
            "only showing top 20 rows\n",
            "\n"
          ]
        }
      ],
      "source": [
        "imdbDf = imdbDf.withColumn('text_en', regexp_replace(imdbDf.text_en,\",\", \"\"))\n",
        "imdbDf = imdbDf.withColumn('text_en', regexp_replace(imdbDf.text_en,\" +\", \" \"))\n",
        "imdbDf = imdbDf.withColumn('text_en', regexp_replace(imdbDf.text_en,'\"+', \"\"))\n",
        "imdbDf = imdbDf.withColumn('text_en', lower(col('text_en')))\n",
        "\n",
        "imdbDf = imdbDf.withColumn('text_pt', regexp_replace(imdbDf.text_pt,\",\", \"\"))\n",
        "imdbDf = imdbDf.withColumn('text_pt', regexp_replace(imdbDf.text_pt,'\"+', \"\"))\n",
        "imdbDf = imdbDf.withColumn('text_pt', regexp_replace(imdbDf.text_pt,\" +\", \" \"))\n",
        "imdbDf = imdbDf.withColumn('text_pt', lower(col('text_pt')))\n",
        "imdbDf.show()"
      ]
    },
    {
      "cell_type": "markdown",
      "metadata": {
        "id": "JdSxjXxKH6vz"
      },
      "source": [
        "Contagem de palavras por sentença"
      ]
    },
    {
      "cell_type": "code",
      "execution_count": null,
      "metadata": {
        "colab": {
          "base_uri": "https://localhost:8080/"
        },
        "id": "eeTQ3m8CH6Sf",
        "outputId": "f7962072-ada9-474f-9503-bd31ca18f56a"
      },
      "outputs": [
        {
          "name": "stdout",
          "output_type": "stream",
          "text": [
            "+---+--------------------+--------------------+---------+--------+--------+\n",
            "| id|             text_en|             text_pt|sentiment|en_count|pt_count|\n",
            "+---+--------------------+--------------------+---------+--------+--------+\n",
            "|  1|once again mr. co...|mais uma vez o sr...|      neg|     168|     168|\n",
            "|  2|this is an exampl...|este é um exemplo...|      neg|     232|     245|\n",
            "|  3|first of all i ha...|primeiro de tudo ...|      neg|     215|     213|\n",
            "|  4|not even the beat...|nem mesmo os beat...|      neg|     308|     324|\n",
            "|  5|brass pictures mo...|filmes de fotos d...|      neg|     238|     244|\n",
            "|  6|a funny thing hap...|uma coisa engraça...|      neg|     115|     116|\n",
            "|  7|this german horro...|este filme de ter...|      neg|     156|     161|\n",
            "|  8|being a long-time...|sendo um fã de lo...|      neg|     136|     146|\n",
            "|  9|tokyo eyes tells ...|tokyo eyes fala d...|      neg|     129|     130|\n",
            "| 10|wealthy horse ran...|fazendeiros ricos...|      neg|     160|     167|\n",
            "| 11|cage plays a drun...|cage interpreta u...|      neg|     109|     106|\n",
            "| 12|first of all i wo...|primeiro de tudo ...|      neg|     333|     314|\n",
            "| 13|so tell me - what...|então me diga - q...|      neg|     243|     248|\n",
            "| 14|a big disappointm...|uma grande decepç...|      neg|     110|     107|\n",
            "| 15|this film is abso...|este filme é abso...|      neg|     185|     202|\n",
            "| 16|heres a decidedly...|heres um decidida...|      neg|     205|     214|\n",
            "| 17|at the bottom end...|na parte inferior...|      neg|     148|     146|\n",
            "| 18|earth has been de...|a terra foi destr...|      neg|     196|     196|\n",
            "| 19|many people are s...|muitas pessoas es...|      neg|     350|     366|\n",
            "| 20|new york family i...|a família de nova...|      neg|      76|      88|\n",
            "+---+--------------------+--------------------+---------+--------+--------+\n",
            "only showing top 20 rows\n",
            "\n"
          ]
        }
      ],
      "source": [
        "imdbDf = imdbDf.withColumn(\"en_count\", size(split(imdbDf.text_en, \" \")))\n",
        "imdbDf = imdbDf.withColumn(\"pt_count\", size(split(imdbDf.text_pt, \" \")))\n",
        "imdbDf.show()"
      ]
    },
    {
      "cell_type": "markdown",
      "metadata": {
        "id": "MApazJfrUULB"
      },
      "source": [
        "Selecionando somente os textos que o sentimento foi classificado corretamente"
      ]
    },
    {
      "cell_type": "code",
      "execution_count": null,
      "metadata": {
        "colab": {
          "base_uri": "https://localhost:8080/"
        },
        "id": "z2a9strzQ4JG",
        "outputId": "b336ad47-a020-4984-c6da-bb832e7aea47"
      },
      "outputs": [
        {
          "name": "stdout",
          "output_type": "stream",
          "text": [
            "+---+--------------------+--------------------+---------+--------+--------+\n",
            "| id|             text_en|             text_pt|sentiment|en_count|pt_count|\n",
            "+---+--------------------+--------------------+---------+--------+--------+\n",
            "|  1|once again mr. co...|mais uma vez o sr...|      neg|     168|     168|\n",
            "|  2|this is an exampl...|este é um exemplo...|      neg|     232|     245|\n",
            "|  3|first of all i ha...|primeiro de tudo ...|      neg|     215|     213|\n",
            "|  4|not even the beat...|nem mesmo os beat...|      neg|     308|     324|\n",
            "|  5|brass pictures mo...|filmes de fotos d...|      neg|     238|     244|\n",
            "|  6|a funny thing hap...|uma coisa engraça...|      neg|     115|     116|\n",
            "|  7|this german horro...|este filme de ter...|      neg|     156|     161|\n",
            "|  8|being a long-time...|sendo um fã de lo...|      neg|     136|     146|\n",
            "|  9|tokyo eyes tells ...|tokyo eyes fala d...|      neg|     129|     130|\n",
            "| 10|wealthy horse ran...|fazendeiros ricos...|      neg|     160|     167|\n",
            "| 11|cage plays a drun...|cage interpreta u...|      neg|     109|     106|\n",
            "| 12|first of all i wo...|primeiro de tudo ...|      neg|     333|     314|\n",
            "| 13|so tell me - what...|então me diga - q...|      neg|     243|     248|\n",
            "| 14|a big disappointm...|uma grande decepç...|      neg|     110|     107|\n",
            "| 15|this film is abso...|este filme é abso...|      neg|     185|     202|\n",
            "| 16|heres a decidedly...|heres um decidida...|      neg|     205|     214|\n",
            "| 17|at the bottom end...|na parte inferior...|      neg|     148|     146|\n",
            "| 18|earth has been de...|a terra foi destr...|      neg|     196|     196|\n",
            "| 19|many people are s...|muitas pessoas es...|      neg|     350|     366|\n",
            "| 20|new york family i...|a família de nova...|      neg|      76|      88|\n",
            "+---+--------------------+--------------------+---------+--------+--------+\n",
            "only showing top 20 rows\n",
            "\n"
          ]
        }
      ],
      "source": [
        "imdbDfneg = imdbDf.where(imdbDf.sentiment == 'neg')\n",
        "imdbDfpos = imdbDf.where(imdbDf.sentiment == 'pos')\n",
        "imdbDfconcat = imdbDfneg.union(imdbDfpos)\n",
        "imdbDfconcat.show()"
      ]
    },
    {
      "cell_type": "code",
      "execution_count": null,
      "metadata": {
        "colab": {
          "base_uri": "https://localhost:8080/"
        },
        "id": "YGB_m7OHUI71",
        "outputId": "0c070cd0-a04d-4cac-d984-116b090e6a34"
      },
      "outputs": [
        {
          "name": "stdout",
          "output_type": "stream",
          "text": [
            "+---------+\n",
            "|sentiment|\n",
            "+---------+\n",
            "|      neg|\n",
            "|      pos|\n",
            "+---------+\n",
            "\n"
          ]
        }
      ],
      "source": [
        "imdbDfconcat.select('sentiment').distinct().show()"
      ]
    },
    {
      "cell_type": "code",
      "execution_count": null,
      "metadata": {
        "colab": {
          "base_uri": "https://localhost:8080/"
        },
        "id": "g_MLvgjiVdYo",
        "outputId": "929c6ba7-da74-4447-85a8-1e509c0070b4"
      },
      "outputs": [
        {
          "data": {
            "text/plain": [
              "['neg', 'pos']"
            ]
          },
          "execution_count": 11,
          "metadata": {},
          "output_type": "execute_result"
        }
      ],
      "source": [
        "lst = imdbDfconcat.select('sentiment').distinct().rdd.flatMap(lambda x: x).collect()\n",
        "lst"
      ]
    },
    {
      "cell_type": "markdown",
      "metadata": {
        "id": "zf38a4kkJVbw"
      },
      "source": [
        "Etapa 2: Processamento de linguagem natural"
      ]
    },
    {
      "cell_type": "markdown",
      "metadata": {
        "id": "sHaNx35dJavp"
      },
      "source": [
        "Importando as bibliotecas"
      ]
    },
    {
      "cell_type": "code",
      "execution_count": 1,
      "metadata": {
        "colab": {
          "base_uri": "https://localhost:8080/"
        },
        "id": "H-cyyWdKJtxI",
        "outputId": "cd83df42-4637-41d9-c8c5-66a44aa7aff9"
      },
      "outputs": [
        {
          "output_type": "stream",
          "name": "stdout",
          "text": [
            "Looking in indexes: https://pypi.org/simple, https://us-python.pkg.dev/colab-wheels/public/simple/\n",
            "Collecting unidecode\n",
            "  Downloading Unidecode-1.3.6-py3-none-any.whl (235 kB)\n",
            "\u001b[K     |████████████████████████████████| 235 kB 5.1 MB/s \n",
            "\u001b[?25hInstalling collected packages: unidecode\n",
            "Successfully installed unidecode-1.3.6\n"
          ]
        }
      ],
      "source": [
        "!pip install unidecode"
      ]
    },
    {
      "cell_type": "code",
      "execution_count": 2,
      "metadata": {
        "colab": {
          "base_uri": "https://localhost:8080/"
        },
        "id": "2DFFhKklJdUA",
        "outputId": "ac3914e8-37c6-479f-ee27-7406d9c8bf67"
      },
      "outputs": [
        {
          "output_type": "stream",
          "name": "stderr",
          "text": [
            "[nltk_data] Downloading package stopwords to /root/nltk_data...\n",
            "[nltk_data]   Unzipping corpora/stopwords.zip.\n"
          ]
        },
        {
          "output_type": "execute_result",
          "data": {
            "text/plain": [
              "True"
            ]
          },
          "metadata": {},
          "execution_count": 2
        }
      ],
      "source": [
        "import numpy as np\n",
        "import pandas as pd\n",
        "from keras.preprocessing.text import Tokenizer\n",
        "from keras_preprocessing.sequence import pad_sequences\n",
        "from sklearn.model_selection import train_test_split\n",
        "from sklearn.feature_extraction.text import TfidfVectorizer\n",
        "from keras.preprocessing.text import text_to_word_sequence\n",
        "import re, os\n",
        "from keras.models import Model\n",
        "from keras.layers import Input\n",
        "from keras.layers import Dense\n",
        "from keras.layers import Embedding\n",
        "from keras.layers import GRU, Bidirectional\n",
        "import matplotlib.pyplot as plt\n",
        "from nltk.corpus import stopwords\n",
        "from tqdm import tqdm\n",
        "import glob\n",
        "from pathlib import Path\n",
        "import nltk\n",
        "from unidecode import unidecode\n",
        "\n",
        "nltk.download('stopwords')"
      ]
    },
    {
      "cell_type": "code",
      "execution_count": null,
      "metadata": {
        "id": "3Iz0Y44dKj_k"
      },
      "outputs": [],
      "source": [
        "def get_words(data):\n",
        "  stop_words = set(stopwords.words('portuguese'))\n",
        "  stop_words = [unidecode(s) for s in stop_words]\n",
        "  text = []\n",
        "  text_aux = []\n",
        "  text_categ = {}\n",
        "  for sentiment in data.select('sentiment').distinct().rdd.flatMap(lambda x: x).collect():\n",
        "    data_aux = data.where(data.sentiment == sentiment)\n",
        "    for row in data_aux.select('text_pt').rdd.flatMap(lambda x: x).collect():\n",
        "      word_list = text_to_word_sequence(row)\n",
        "      no_stop_words = [w for w in word_list if not w in stop_words]\n",
        "      no_stop_words = \" \".join(no_stop_words)\n",
        "      text_aux.append(no_stop_words)\n",
        "    text_categ[sentiment] = text_aux\n",
        "    text_aux = []\n",
        "  for row in data.select('text_pt').rdd.flatMap(lambda x: x).collect():\n",
        "    word_list = text_to_word_sequence(row)\n",
        "    no_stop_words = [w for w in word_list if not w in stop_words]\n",
        "    no_stop_words = \" \".join(no_stop_words)\n",
        "    text.append(no_stop_words)\n",
        "\n",
        "  return text, text_categ"
      ]
    },
    {
      "cell_type": "code",
      "execution_count": null,
      "metadata": {
        "id": "WgfmHnQ6YMgU"
      },
      "outputs": [],
      "source": [
        "words, classified_words = get_words(imdbDfconcat)"
      ]
    },
    {
      "cell_type": "markdown",
      "metadata": {
        "id": "KtSamOu8aU2X"
      },
      "source": [
        "Tokenização das palavras para uso no classificador"
      ]
    },
    {
      "cell_type": "code",
      "execution_count": null,
      "metadata": {
        "id": "UQOghTr3aYP_"
      },
      "outputs": [],
      "source": [
        "tokenizer = Tokenizer(num_words=5000, split=' ')\n",
        "\n",
        "tokenizer.fit_on_texts(words)\n",
        "X = tokenizer.texts_to_sequences(words)  \n",
        "    \n",
        "X = pad_sequences(X, maxlen=300)\n",
        "\n",
        "word_index = tokenizer.word_index\n",
        "Y = pd.get_dummies(imdbDfconcat.select('sentiment').rdd.flatMap(lambda x: x).collect()).values\n",
        "X_train, X_test, Y_train, Y_test = train_test_split(X,Y, test_size = 0.30, random_state = 42)"
      ]
    },
    {
      "cell_type": "markdown",
      "metadata": {
        "id": "SXzqTQBfgLpZ"
      },
      "source": [
        "Definindo o modelo a ser usado (Rede GRU)"
      ]
    },
    {
      "cell_type": "code",
      "execution_count": null,
      "metadata": {
        "id": "lia-vYexgO4e"
      },
      "outputs": [],
      "source": [
        "def model():\n",
        "    input_shape = (300,)\n",
        "    model_input = Input(shape=input_shape, name=\"input\", dtype='int32')    \n",
        "    embedding = Embedding(5000, 128, input_length=300, name=\"embedding\")(model_input)\n",
        "    gru = GRU(128, name=\"gru\", dropout = 0.25, recurrent_dropout = 0.25)(embedding)\n",
        "    model_output = Dense(2, activation='softmax', name=\"softmax\")(gru)\n",
        "    model = Model(inputs=model_input, outputs=model_output)\n",
        "    return model"
      ]
    },
    {
      "cell_type": "code",
      "execution_count": null,
      "metadata": {
        "colab": {
          "base_uri": "https://localhost:8080/"
        },
        "id": "gfa79KRngaoz",
        "outputId": "0f9a2c3e-b98a-45af-b2bf-d435c98b6edc"
      },
      "outputs": [
        {
          "name": "stderr",
          "output_type": "stream",
          "text": [
            "WARNING:tensorflow:Layer gru will not use cuDNN kernels since it doesn't meet the criteria. It will use a generic GPU kernel as fallback when running on GPU.\n"
          ]
        },
        {
          "name": "stdout",
          "output_type": "stream",
          "text": [
            "Model: \"model_1\"\n",
            "_________________________________________________________________\n",
            " Layer (type)                Output Shape              Param #   \n",
            "=================================================================\n",
            " input (InputLayer)          [(None, 300)]             0         \n",
            "                                                                 \n",
            " embedding (Embedding)       (None, 300, 128)          640000    \n",
            "                                                                 \n",
            " gru (GRU)                   (None, 128)               99072     \n",
            "                                                                 \n",
            " softmax (Dense)             (None, 2)                 258       \n",
            "                                                                 \n",
            "=================================================================\n",
            "Total params: 739,330\n",
            "Trainable params: 739,330\n",
            "Non-trainable params: 0\n",
            "_________________________________________________________________\n",
            "None\n"
          ]
        }
      ],
      "source": [
        "model = model()\n",
        "\n",
        "model.compile(loss = 'binary_crossentropy', optimizer='adam', metrics = ['accuracy'])\n",
        "\n",
        "print(model.summary())"
      ]
    },
    {
      "cell_type": "markdown",
      "metadata": {
        "id": "bEqDxoUngfpk"
      },
      "source": [
        "Treinando o modelo"
      ]
    },
    {
      "cell_type": "code",
      "execution_count": null,
      "metadata": {
        "colab": {
          "base_uri": "https://localhost:8080/",
          "height": 747
        },
        "id": "EqDlqhTMghDR",
        "outputId": "ca515a32-92c1-44b1-e1a8-d56252bcc36b"
      },
      "outputs": [
        {
          "output_type": "stream",
          "name": "stdout",
          "text": [
            "Epoch 1/5\n",
            "1153/1153 [==============================] - 1204s 1s/step - loss: 0.3511 - accuracy: 0.8488 - val_loss: 0.2890 - val_accuracy: 0.8833\n",
            "Epoch 2/5\n",
            "1153/1153 [==============================] - 1182s 1s/step - loss: 0.2271 - accuracy: 0.9113 - val_loss: 0.2802 - val_accuracy: 0.8897\n",
            "Epoch 3/5\n",
            "1153/1153 [==============================] - 1176s 1s/step - loss: 0.1727 - accuracy: 0.9353 - val_loss: 0.2870 - val_accuracy: 0.8897\n",
            "Epoch 4/5\n",
            "1153/1153 [==============================] - 1182s 1s/step - loss: 0.1361 - accuracy: 0.9491 - val_loss: 0.3022 - val_accuracy: 0.8855\n",
            "Epoch 5/5\n",
            "1153/1153 [==============================] - 1178s 1s/step - loss: 0.1055 - accuracy: 0.9625 - val_loss: 0.3609 - val_accuracy: 0.8813\n"
          ]
        },
        {
          "output_type": "display_data",
          "data": {
            "text/plain": [
              "<Figure size 432x288 with 1 Axes>"
            ],
            "image/png": "[encoded data removed]"
          },
          "metadata": {
            "needs_background": "light"
          }
        },
        {
          "output_type": "display_data",
          "data": {
            "text/plain": [
              "<Figure size 432x288 with 1 Axes>"
            ],
            "image/png": "[encoded data removed]"
          },
          "metadata": {
            "needs_background": "light"
          }
        }
      ],
      "source": [
        "hist = model.fit(\n",
        "        X_train, \n",
        "        Y_train, \n",
        "        validation_data=(X_test, Y_test),\n",
        "        epochs=5,\n",
        "        batch_size=30, \n",
        "        shuffle=True,\n",
        "        verbose=1)\n",
        "\n",
        "model.save_weights(f\"/content/drive/MyDrive/imdb-reviews/modelo.h5\")    \n",
        "\n",
        "\n",
        "plt.figure()\n",
        "plt.plot(hist.history['loss'], lw=2.0, color='b', label='train')\n",
        "plt.plot(hist.history['val_loss'], lw=2.0, color='r', label='val')\n",
        "plt.title('Classificador de sentimentos IMDb')\n",
        "plt.xlabel('Epochs')\n",
        "plt.ylabel('Cross-Entropy')\n",
        "plt.legend(loc='upper right')\n",
        "plt.show()\n",
        "\n",
        "plt.figure()\n",
        "plt.plot(hist.history['accuracy'], lw=2.0, color='b', label='train')\n",
        "plt.plot(hist.history['val_accuracy'], lw=2.0, color='r', label='val')\n",
        "plt.title('Classificador de sentimentos IMDb')\n",
        "plt.xlabel('Epochs')\n",
        "plt.ylabel('Acurácia')\n",
        "plt.legend(loc='upper left')\n",
        "plt.show()"
      ]
    },
    {
      "cell_type": "markdown",
      "metadata": {
        "id": "1znUhVKZ1Ls6"
      },
      "source": [
        "Carregando o modelo treinado"
      ]
    },
    {
      "cell_type": "code",
      "execution_count": null,
      "metadata": {
        "id": "lN9MoRvT1OHh"
      },
      "outputs": [],
      "source": [
        "model.load_weights(f\"/content/drive/MyDrive/imdb-reviews/modelo.h5\")\n",
        "tokenizer = Tokenizer(num_words=5000, split=' ')"
      ]
    },
    {
      "cell_type": "code",
      "execution_count": null,
      "metadata": {
        "id": "4qHWNtRn2HBH"
      },
      "outputs": [],
      "source": [
        "while True:\n",
        "    sentence = input(\"input> \")\n",
        "\n",
        "    if sentence == \"exit\":\n",
        "        break\n",
        "    \n",
        "    new_text = [sentence]\n",
        "    tokenizer.fit_on_texts(new_text)\n",
        "    new_text = tokenizer.texts_to_sequences(new_text)\n",
        "\n",
        "    new_text = pad_sequences(new_text, maxlen=300)\n",
        "\n",
        "    sentiment = model.predict(new_text,batch_size=1,verbose = 1)[0]\n",
        "\n",
        "    if(np.argmax(sentiment) == 0):\n",
        "        pred_proba = \"%.2f%%\" % (sentiment[0]*100)\n",
        "        print(\"negativo => \", pred_proba)\n",
        "    elif (np.argmax(sentiment) == 1):\n",
        "        pred_proba = \"%.2f%%\" % (sentiment[1]*100)\n",
        "        print(\"positivo => \", pred_proba)"
      ]
    }
  ],
  "metadata": {
    "accelerator": "GPU",
    "colab": {
      "provenance": [],
      "collapsed_sections": [],
      "authorship_tag": "ABX9TyMWkK0f5xUNpL3HhjCWwwTQ",
      "include_colab_link": true
    },
    "kernelspec": {
      "display_name": "Python 3",
      "name": "python3"
    },
    "language_info": {
      "name": "python"
    }
  },
  "nbformat": 4,
  "nbformat_minor": 0
}